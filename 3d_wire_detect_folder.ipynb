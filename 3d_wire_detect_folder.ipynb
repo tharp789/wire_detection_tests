{
 "cells": [
  {
   "cell_type": "code",
   "execution_count": null,
   "metadata": {},
   "outputs": [],
   "source": [
    "import numpy as np\n",
    "import cv2\n",
    "import matplotlib.pyplot as plt\n",
    "import time\n",
    "import open3d as o3d\n",
    "import os\n",
    "import matplotlib.pyplot as plt\n",
    "import yaml\n",
    "from concurrent.futures import ProcessPoolExecutor\n",
    "\n",
    "import wire_detection_utils as wdu\n",
    "import viz_utils as vu"
   ]
  },
  {
   "cell_type": "code",
   "execution_count": null,
   "metadata": {},
   "outputs": [],
   "source": [
    "with open('wire_detect_config.yaml', 'r') as file:\n",
    "    detection_config = yaml.safe_load(file)\n",
    "\n",
    "# Create a WireDetector instance\n",
    "wire_detector = wdu.WireDetector(detection_config)\n",
    "input_image_size = [480, 270]\n",
    "\n",
    "folder = \"/media/tyler/Storage/field_tests/street_wire_experiments/wire_tracking_05-07_40fov/\" \n",
    "# folder = \"/media/tyler/Storage/field_tests/hawkins_2-19/wire_tracking_02-19_1/\" \n",
    "# folder = \"/media/tyler/Storage/field_tests/acfa_3-21/\" \n",
    "\n",
    "rgb_folder = folder + 'rgb_images/'\n",
    "depth_folder = folder + 'depth_images/'\n",
    "camera_intrinsics_file = folder + 'rgb_camera_intrinsics.npy'\n",
    "camera_intrinsics = np.load(camera_intrinsics_file)\n",
    "rgb_file_list = sorted(os.listdir(rgb_folder))\n",
    "depth_file_list = sorted(os.listdir(depth_folder))\n",
    "original_image_size = cv2.imread(os.path.join(rgb_folder, rgb_file_list[0])).shape[:2]\n",
    "\n",
    "# resize the camera intrinsics to match the input image size\n",
    "camera_intrinsics[0, 0] *= input_image_size[0] / original_image_size[0]\n",
    "camera_intrinsics[1, 1] *= input_image_size[1] / original_image_size[1]\n",
    "camera_intrinsics[0, 2] *= input_image_size[0] / original_image_size[0]\n",
    "camera_intrinsics[1, 2] *= input_image_size[1] / original_image_size[1]\n",
    "\n",
    "wire_detection_dir = folder + 'ransac_results/'\n",
    "\n",
    "if os.path.exists(wire_detection_dir) == False:\n",
    "    os.makedirs(wire_detection_dir)"
   ]
  },
  {
   "cell_type": "code",
   "execution_count": null,
   "metadata": {},
   "outputs": [
    {
     "name": "stderr",
     "output_type": "stream",
     "text": [
      "/home/tyler/Documents/wire_detection_tests/wire_env/lib/python3.10/site-packages/numpy/_core/fromnumeric.py:3860: RuntimeWarning: Mean of empty slice.\n",
      "  return _methods._mean(a, axis=axis, dtype=dtype,\n",
      "/home/tyler/Documents/wire_detection_tests/wire_env/lib/python3.10/site-packages/numpy/_core/_methods.py:145: RuntimeWarning: invalid value encountered in scalar divide\n",
      "  ret = ret.dtype.type(ret / rcount)\n"
     ]
    },
    {
     "name": "stdout",
     "output_type": "stream",
     "text": [
      "Average frequency:  275.45189375248054\n"
     ]
    }
   ],
   "source": [
    "\n",
    "avg_frequency = 0.0\n",
    "for file in rgb_file_list:\n",
    "    start_time = time.perf_counter()\n",
    "    rgb_img = cv2.imread(os.path.join(rgb_folder, file))\n",
    "    depth_img = np.load(os.path.join(depth_folder, file))\n",
    "    rgb_timestamp = int(file.split('.')[0])\n",
    "    closest_depth_timestamp = None\n",
    "    for depth_file in depth_file_list:\n",
    "        if closest_depth_timestamp is None or abs(int(depth_file.split('.')[0]) - rgb_timestamp) < abs(int(closest_depth_timestamp.split('.')[0]) - rgb_timestamp):\n",
    "            closest_depth_timestamp = depth_file\n",
    "            closest_depth_file = os.path.join(depth_folder, str(closest_depth_timestamp)) + '.npy'\n",
    "\n",
    "    depth_img = np.load(os.path.join(depth_folder, str(closest_depth_timestamp)))\n",
    "\n",
    "    rgb_img = cv2.resize(rgb_img, (input_image_size[0], input_image_size[1]))\n",
    "    depth_img = cv2.resize(depth_img, (input_image_size[0], input_image_size[1]))\n",
    "\n",
    "    start_time = time.perf_counter()\n",
    "    wire_lines, wire_midpoints, avg_angle, midpoint_dists_wrt_center = wire_detector.detect_wires_2d(rgb_img)\n",
    "\n",
    "    regions_of_interest, roi_line_counts = wire_detector.find_regions_of_interest(depth_img, avg_angle, midpoint_dists_wrt_center)\n",
    "\n",
    "    fitted_lines, roi_pcs, roi_point_colors = wire_detector.ransac_on_rois(regions_of_interest, roi_line_counts, avg_angle, depth_img, camera_intrinsics, viz_img=rgb_img)\n",
    "\n",
    "    end_time = time.perf_counter()\n",
    "    elapsed_time = end_time - start_time\n",
    "    avg_frequency += 1.0 / elapsed_time\n",
    "\n",
    "    img = vu.visualize_fitted_lines(fitted_lines, roi_pcs, roi_point_colors)\n",
    "\n",
    "    cv2.imwrite(wire_detection_dir + file, img)\n",
    "\n",
    "avg_frequency /= len(rgb_file_list)\n",
    "print(\"Average frequency: \", avg_frequency)\n"
   ]
  }
 ],
 "metadata": {
  "kernelspec": {
   "display_name": "wire_env",
   "language": "python",
   "name": "python3"
  },
  "language_info": {
   "codemirror_mode": {
    "name": "ipython",
    "version": 3
   },
   "file_extension": ".py",
   "mimetype": "text/x-python",
   "name": "python",
   "nbconvert_exporter": "python",
   "pygments_lexer": "ipython3",
   "version": "3.10.12"
  }
 },
 "nbformat": 4,
 "nbformat_minor": 2
}
