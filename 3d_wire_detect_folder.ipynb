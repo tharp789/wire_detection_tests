{
 "cells": [
  {
   "cell_type": "code",
   "execution_count": 1,
   "metadata": {},
   "outputs": [
    {
     "name": "stdout",
     "output_type": "stream",
     "text": [
      "Jupyter environment detected. Enabling Open3D WebVisualizer.\n",
      "[Open3D INFO] WebRTC GUI backend enabled.\n",
      "[Open3D INFO] WebRTCWindowSystem: HTTP handshake server disabled.\n"
     ]
    }
   ],
   "source": [
    "import numpy as np\n",
    "import cv2\n",
    "import time\n",
    "import open3d as o3d\n",
    "import os\n",
    "import yaml\n",
    "\n",
    "import wire_detection_utils as wdu\n",
    "import viz_utils as vu"
   ]
  },
  {
   "cell_type": "code",
   "execution_count": 2,
   "metadata": {},
   "outputs": [],
   "source": [
    "with open('wire_detect_config.yaml', 'r') as file:\n",
    "    detection_config = yaml.safe_load(file)\n",
    "\n",
    "# Create a WireDetector instance\n",
    "wire_detector = wdu.WireDetector(detection_config)\n",
    "input_image_size = [480, 270]\n",
    "\n",
    "folder = \"/media/tyler/Storage/field_tests/street_wire_experiments/wire_tracking_05-07_40fov/\" \n",
    "# folder = \"/media/tyler/Storage/field_tests/hawkins_2-19/wire_tracking_02-19_1/\" \n",
    "# folder = \"/media/tyler/Storage/field_tests/acfa_3-21/\" \n",
    "\n",
    "rgb_folder = folder + 'rgb_images/'\n",
    "depth_folder = folder + 'depth_images/'\n",
    "camera_intrinsics_file = folder + 'rgb_camera_intrinsics.npy'\n",
    "camera_intrinsics = np.load(camera_intrinsics_file)\n",
    "rgb_file_list = sorted(os.listdir(rgb_folder))\n",
    "depth_file_list = sorted(os.listdir(depth_folder))\n",
    "original_image_size = cv2.imread(os.path.join(rgb_folder, rgb_file_list[0])).shape[:2]\n",
    "\n",
    "# resize the camera intrinsics to match the input image size\n",
    "camera_intrinsics[0, 0] *= input_image_size[0] / original_image_size[0]\n",
    "camera_intrinsics[1, 1] *= input_image_size[1] / original_image_size[1]\n",
    "camera_intrinsics[0, 2] *= input_image_size[0] / original_image_size[0]\n",
    "camera_intrinsics[1, 2] *= input_image_size[1] / original_image_size[1]\n",
    "\n",
    "wire_detection_dir = folder + 'ransac_results/'\n",
    "\n",
    "if os.path.exists(wire_detection_dir) == False:\n",
    "    os.makedirs(wire_detection_dir)"
   ]
  },
  {
   "cell_type": "code",
   "execution_count": 4,
   "metadata": {},
   "outputs": [
    {
     "ename": "error",
     "evalue": "OpenCV(4.11.0) /io/opencv/modules/core/src/arithm.cpp:230: error: (-215:Assertion failed) (mtype == CV_8U || mtype == CV_8S) && _mask.sameSize(*psrc1) in function 'binary_op'\n",
     "output_type": "error",
     "traceback": [
      "\u001b[0;31m---------------------------------------------------------------------------\u001b[0m",
      "\u001b[0;31merror\u001b[0m                                     Traceback (most recent call last)",
      "Cell \u001b[0;32mIn[4], line 23\u001b[0m\n\u001b[1;32m     19\u001b[0m wire_lines, wire_midpoints, avg_angle, midpoint_dists_wrt_center \u001b[38;5;241m=\u001b[39m wire_detector\u001b[38;5;241m.\u001b[39mdetect_wires_2d(rgb_img)\n\u001b[1;32m     21\u001b[0m regions_of_interest, roi_line_counts \u001b[38;5;241m=\u001b[39m wire_detector\u001b[38;5;241m.\u001b[39mfind_regions_of_interest(depth_img, avg_angle, midpoint_dists_wrt_center)\n\u001b[0;32m---> 23\u001b[0m fitted_lines, roi_pcs, roi_point_colors \u001b[38;5;241m=\u001b[39m \u001b[43mwire_detector\u001b[49m\u001b[38;5;241;43m.\u001b[39;49m\u001b[43mransac_on_rois\u001b[49m\u001b[43m(\u001b[49m\u001b[43mregions_of_interest\u001b[49m\u001b[43m,\u001b[49m\u001b[43m \u001b[49m\u001b[43mroi_line_counts\u001b[49m\u001b[43m,\u001b[49m\u001b[43m \u001b[49m\u001b[43mavg_angle\u001b[49m\u001b[43m,\u001b[49m\u001b[43m \u001b[49m\u001b[43mdepth_img\u001b[49m\u001b[43m,\u001b[49m\u001b[43m \u001b[49m\u001b[43mcamera_intrinsics\u001b[49m\u001b[43m,\u001b[49m\u001b[43m \u001b[49m\u001b[43mviz_img\u001b[49m\u001b[38;5;241;43m=\u001b[39;49m\u001b[43mrgb_img\u001b[49m\u001b[43m)\u001b[49m\n\u001b[1;32m     25\u001b[0m end_time \u001b[38;5;241m=\u001b[39m time\u001b[38;5;241m.\u001b[39mperf_counter()\n\u001b[1;32m     26\u001b[0m elapsed_time \u001b[38;5;241m=\u001b[39m end_time \u001b[38;5;241m-\u001b[39m start_time\n",
      "File \u001b[0;32m~/Documents/wire_detection_tests/wire_detection_utils.py:278\u001b[0m, in \u001b[0;36mWireDetector.ransac_on_rois\u001b[0;34m(self, rois, roi_line_counts, avg_angle, depth_image, camera_intrinsics, viz_img)\u001b[0m\n\u001b[1;32m    276\u001b[0m roi_pcs \u001b[38;5;241m=\u001b[39m []\n\u001b[1;32m    277\u001b[0m roi_point_colors \u001b[38;5;241m=\u001b[39m []\n\u001b[0;32m--> 278\u001b[0m roi_depths, depth_img_masked, roi_rgbs, masked_viz_img \u001b[38;5;241m=\u001b[39m \u001b[38;5;28;43mself\u001b[39;49m\u001b[38;5;241;43m.\u001b[39;49m\u001b[43mroi_to_point_clouds\u001b[49m\u001b[43m(\u001b[49m\u001b[43mrois\u001b[49m\u001b[43m,\u001b[49m\u001b[43m \u001b[49m\u001b[43mavg_angle\u001b[49m\u001b[43m,\u001b[49m\u001b[43m \u001b[49m\u001b[43mdepth_image\u001b[49m\u001b[43m,\u001b[49m\u001b[43m \u001b[49m\u001b[43mviz_img\u001b[49m\u001b[38;5;241;43m=\u001b[39;49m\u001b[43mviz_img\u001b[49m\u001b[43m)\u001b[49m\n\u001b[1;32m    280\u001b[0m \u001b[38;5;28;01mfor\u001b[39;00m roi_depth, roi_rgb, line_count \u001b[38;5;129;01min\u001b[39;00m \u001b[38;5;28mzip\u001b[39m(roi_depths, roi_rgbs, roi_line_counts):\n\u001b[1;32m    281\u001b[0m     \u001b[38;5;66;03m# convert depth image to point cloud\u001b[39;00m\n\u001b[1;32m    282\u001b[0m     points, colors \u001b[38;5;241m=\u001b[39m depth_to_pointcloud(roi_depth, camera_intrinsics, roi_rgb, depth_clip\u001b[38;5;241m=\u001b[39m[\u001b[38;5;241m0.5\u001b[39m, \u001b[38;5;241m15.0\u001b[39m])\n",
      "File \u001b[0;32m~/Documents/wire_detection_tests/wire_detection_utils.py:255\u001b[0m, in \u001b[0;36mWireDetector.roi_to_point_clouds\u001b[0;34m(self, rois, avg_angle, depth_image, viz_img)\u001b[0m\n\u001b[1;32m    252\u001b[0m     roi_depths\u001b[38;5;241m.\u001b[39mappend(single_roi_depth_image)\n\u001b[1;32m    254\u001b[0m \u001b[38;5;28;01mif\u001b[39;00m viz_img \u001b[38;5;129;01mis\u001b[39;00m \u001b[38;5;129;01mnot\u001b[39;00m \u001b[38;5;28;01mNone\u001b[39;00m:\n\u001b[0;32m--> 255\u001b[0m     masked_viz_img \u001b[38;5;241m=\u001b[39m \u001b[43mcv2\u001b[49m\u001b[38;5;241;43m.\u001b[39;49m\u001b[43mbitwise_and\u001b[49m\u001b[43m(\u001b[49m\u001b[43mviz_img\u001b[49m\u001b[43m,\u001b[49m\u001b[43m \u001b[49m\u001b[43mviz_img\u001b[49m\u001b[43m,\u001b[49m\u001b[43m \u001b[49m\u001b[43mmask\u001b[49m\u001b[38;5;241;43m=\u001b[39;49m\u001b[43mviz_mask\u001b[49m\u001b[43m)\u001b[49m\n\u001b[1;32m    256\u001b[0m     depth_img_masked \u001b[38;5;241m=\u001b[39m cv2\u001b[38;5;241m.\u001b[39mbitwise_and(depth_image, depth_image, mask\u001b[38;5;241m=\u001b[39mviz_mask)\n\u001b[1;32m    257\u001b[0m     \u001b[38;5;28;01mreturn\u001b[39;00m roi_depths, depth_img_masked, roi_rgb, masked_viz_img\n",
      "\u001b[0;31merror\u001b[0m: OpenCV(4.11.0) /io/opencv/modules/core/src/arithm.cpp:230: error: (-215:Assertion failed) (mtype == CV_8U || mtype == CV_8S) && _mask.sameSize(*psrc1) in function 'binary_op'\n"
     ]
    }
   ],
   "source": [
    "\n",
    "avg_frequency = 0.0\n",
    "for file in rgb_file_list:\n",
    "    start_time = time.perf_counter()\n",
    "    rgb_timestamp = int(file.split('.')[0])\n",
    "    closest_depth_timestamp = None\n",
    "    for depth_file in depth_file_list:\n",
    "        if closest_depth_timestamp is None or abs(int(depth_file.split('.')[0]) - rgb_timestamp) < abs(int(closest_depth_timestamp.split('.')[0]) - rgb_timestamp):\n",
    "            closest_depth_timestamp = depth_file\n",
    "            closest_depth_file = os.path.join(depth_folder, str(closest_depth_timestamp)) + '.npy'\n",
    "            \n",
    "    rgb_img = cv2.imread(os.path.join(rgb_folder, file))\n",
    "    depth_img = np.load(os.path.join(depth_folder, str(closest_depth_timestamp)))\n",
    "\n",
    "    rgb_img = cv2.resize(rgb_img, (input_image_size[0], input_image_size[1]))\n",
    "    depth_img = cv2.resize(depth_img, (input_image_size[0], input_image_size[1]))\n",
    "\n",
    "    start_time = time.perf_counter()\n",
    "    wire_lines, wire_midpoints, avg_angle, midpoint_dists_wrt_center = wire_detector.detect_wires_2d(rgb_img)\n",
    "\n",
    "    regions_of_interest, roi_line_counts = wire_detector.find_regions_of_interest(depth_img, avg_angle, midpoint_dists_wrt_center)\n",
    "\n",
    "    fitted_lines, roi_pcs, roi_point_colors = wire_detector.ransac_on_rois(regions_of_interest, roi_line_counts, avg_angle, depth_img, camera_intrinsics, viz_img=rgb_img)\n",
    "\n",
    "    end_time = time.perf_counter()\n",
    "    elapsed_time = end_time - start_time\n",
    "    avg_frequency += 1.0 / elapsed_time\n",
    "\n",
    "    img = vu.visualize_fitted_lines(fitted_lines, roi_pcs, roi_point_colors)\n",
    "\n",
    "    cv2.imwrite(wire_detection_dir + file, img)\n",
    "\n",
    "avg_frequency /= len(rgb_file_list)\n",
    "print(\"Average frequency: \", avg_frequency)\n"
   ]
  }
 ],
 "metadata": {
  "kernelspec": {
   "display_name": "wire_env",
   "language": "python",
   "name": "python3"
  },
  "language_info": {
   "codemirror_mode": {
    "name": "ipython",
    "version": 3
   },
   "file_extension": ".py",
   "mimetype": "text/x-python",
   "name": "python",
   "nbconvert_exporter": "python",
   "pygments_lexer": "ipython3",
   "version": "3.10.12"
  }
 },
 "nbformat": 4,
 "nbformat_minor": 2
}
