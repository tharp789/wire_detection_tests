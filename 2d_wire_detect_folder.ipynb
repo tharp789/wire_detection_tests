{
 "cells": [
  {
   "cell_type": "code",
   "execution_count": 1,
   "metadata": {},
   "outputs": [],
   "source": [
    "import numpy as np\n",
    "import cv2\n",
    "import matplotlib.pyplot as plt\n",
    "import datetime\n",
    "import os\n",
    "\n",
    "import wire_detection_utils as wdu"
   ]
  },
  {
   "cell_type": "code",
   "execution_count": 14,
   "metadata": {},
   "outputs": [],
   "source": [
    "expansion_size = 3\n",
    "line_threshold = 100\n",
    "pixel_binning_size = 3\n",
    "low_canny_threshold =25\n",
    "high_canny_threshold = 200\n",
    "bin_avg_threshold_multiplier = 0.5\n",
    "\n",
    "input_image_size = [480, 270]\n",
    "\n",
    "# Creat e a WireDetector instance\n",
    "wire_detector = wdu.WireDetector(line_threshold, expansion_size, low_canny_threshold, high_canny_threshold, pixel_binning_size, bin_avg_threshold_multiplier)\n",
    "\n",
    "data_folder = \"/media/tyler/Storage/field_tests/street_wire_experiments/wire_tracking_05-07_40fov/\" \n",
    "# data_folder = \"/media/tyler/Storage/field_tests/hawkins_2-19/wire_tracking_02-19_1/\" \n",
    "# data_folder = \"/media/tyler/Storage/field_tests/acfa_3-21/\" \n",
    "\n",
    "rgb_dir = data_folder + \"rgb_images/\"\n",
    "wire_detection_dir = data_folder + \"wire_detection/\"\n",
    "if os.path.exists(wire_detection_dir) == False:\n",
    "    os.makedirs(wire_detection_dir)"
   ]
  },
  {
   "cell_type": "code",
   "execution_count": 15,
   "metadata": {},
   "outputs": [
    {
     "name": "stdout",
     "output_type": "stream",
     "text": [
      "Average frequency:  172.34999304243456\n"
     ]
    }
   ],
   "source": [
    "\n",
    "avg_frequency = 0.0\n",
    "for file in os.listdir(rgb_dir):\n",
    "    start_time = datetime.datetime.now()\n",
    "    img = cv2.imread(rgb_dir + file)\n",
    "    img = cv2.resize(img, (input_image_size[0], input_image_size[1]))\n",
    "    # Create segmentation mask\n",
    "    seg_mask = wire_detector.create_seg_mask(img)\n",
    "\n",
    "    # Detect wires using the segmentation mask\n",
    "    wire_lines, wire_midpoints, avg_angle = wire_detector.detect_wires_2d(seg_mask)\n",
    "\n",
    "    rand_colors = np.random.randint(0, 256, (len(wire_midpoints), 3)).tolist()\n",
    "    for i, (x0,y0,x1,y1) in enumerate(wire_lines):\n",
    "        cv2.line(img, (x0,y0), (x1,y1), tuple(rand_colors[i]), 1)\n",
    "\n",
    "    for i, (x0,y0) in enumerate(wire_midpoints):\n",
    "        cv2.circle(img, (int(x0), int(y0)), 5, tuple(rand_colors[i]), -1)\n",
    "\n",
    "    large_img = cv2.resize(img, (1280, 720))\n",
    "    end_time = datetime.datetime.now()\n",
    "    elapsed_time = end_time - start_time\n",
    "    elapsed_time = elapsed_time.total_seconds()\n",
    "    avg_frequency += 1.0 / elapsed_time\n",
    "    cv2.imwrite(wire_detection_dir + file, large_img)\n",
    "\n",
    "avg_frequency /= len(os.listdir(rgb_dir))\n",
    "print(\"Average frequency: \", avg_frequency)\n"
   ]
  }
 ],
 "metadata": {
  "kernelspec": {
   "display_name": "wire_env",
   "language": "python",
   "name": "python3"
  },
  "language_info": {
   "codemirror_mode": {
    "name": "ipython",
    "version": 3
   },
   "file_extension": ".py",
   "mimetype": "text/x-python",
   "name": "python",
   "nbconvert_exporter": "python",
   "pygments_lexer": "ipython3",
   "version": "3.10.12"
  }
 },
 "nbformat": 4,
 "nbformat_minor": 2
}
