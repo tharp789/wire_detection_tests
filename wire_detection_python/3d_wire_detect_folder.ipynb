{
 "cells": [
  {
   "cell_type": "code",
   "execution_count": 1,
   "metadata": {},
   "outputs": [
    {
     "name": "stdout",
     "output_type": "stream",
     "text": [
      "Jupyter environment detected. Enabling Open3D WebVisualizer.\n",
      "[Open3D INFO] WebRTC GUI backend enabled.\n",
      "[Open3D INFO] WebRTCWindowSystem: HTTP handshake server disabled.\n"
     ]
    }
   ],
   "source": [
    "import numpy as np\n",
    "import cv2\n",
    "import time\n",
    "import os\n",
    "import yaml\n",
    "\n",
    "import open3d as o3d\n",
    "\n",
    "from wire_detector_platforms import WireDetectorCPU\n",
    "import viz_utils as vu"
   ]
  },
  {
   "cell_type": "code",
   "execution_count": 2,
   "metadata": {},
   "outputs": [],
   "source": [
    "with open('wire_detect_config.yaml', 'r') as file:\n",
    "    detection_config = yaml.safe_load(file)\n",
    "\n",
    "# Create a WireDetector instance\n",
    "input_image_size = [480, 270]\n",
    "\n",
    "# folder = \"/media/tyler/Storage/field_tests/street_wire_experiments/wire_tracking_05-07_40fov/\" \n",
    "folder = '/media/tyler/Storage/Research/Datasets/wire_tracking_05-07_40fov/'\n",
    "# folder = \"/home/tyler/Documents/wire_tracking_05-07_40fov/\" \n",
    "# folder = \"/media/tyler/Storage/field_tests/hawkins_2-19/wire_tracking_02-19_1/\" \n",
    "# folder = \"/media/tyler/Storage/field_tests/acfa_3-21/\" \n",
    "\n",
    "rgb_folder = folder + 'rgb_images/'\n",
    "depth_folder = folder + 'depth_images/'\n",
    "camera_intrinsics_file = folder + 'rgb_camera_intrinsics.npy'\n",
    "camera_intrinsics = np.load(camera_intrinsics_file)\n",
    "rgb_file_list = sorted(os.listdir(rgb_folder))\n",
    "depth_file_list = sorted(os.listdir(depth_folder))\n",
    "original_image_size = cv2.imread(os.path.join(rgb_folder, rgb_file_list[0])).shape[:2][::-1]  # (width, height)\n",
    "\n",
    "# resize the camera intrinsics to match the input image size\n",
    "camera_intrinsics[0, 0] *= input_image_size[0] / original_image_size[0]\n",
    "camera_intrinsics[1, 1] *= input_image_size[1] / original_image_size[1]\n",
    "camera_intrinsics[0, 2] *= input_image_size[0] / original_image_size[0]\n",
    "camera_intrinsics[1, 2] *= input_image_size[1] / original_image_size[1]\n",
    "\n",
    "wire_detector = WireDetectorCPU(detection_config, camera_intrinsics)\n",
    "\n",
    "wire_detection_dir = folder + 'ransac_results/'\n",
    "\n",
    "if os.path.exists(wire_detection_dir) == False:\n",
    "    os.makedirs(wire_detection_dir)"
   ]
  },
  {
   "cell_type": "code",
   "execution_count": 3,
   "metadata": {},
   "outputs": [
    {
     "name": "stderr",
     "output_type": "stream",
     "text": [
      "libEGL warning: egl: failed to create dri2 screen\n"
     ]
    },
    {
     "name": "stdout",
     "output_type": "stream",
     "text": [
      "[Open3D INFO] EGL headless mode enabled.\n",
      "WARNING: Using soft CircularBuffer (6144 KiB)\n",
      "FEngine (64 bits) created at 0x72d907443010 (threading is enabled)\n",
      "EGL(1.5)\n",
      "OpenGL(4.5)\n",
      "Detect 3D Average frequency: 76.8298, Average Period: 0.0130 seconds\n",
      "Average 2D Detect Wire frequency: 473.0969, Average Period: 0.0021 seconds\n",
      "Average ROI frequency: 265.9128, Average Period: 0.0038 seconds\n",
      "Average RANSAC frequency: 127.1075, Average Period: 0.0079 seconds\n"
     ]
    }
   ],
   "source": [
    "avg_frequency = 0.0\n",
    "renderer, material = vu.create_renderer()\n",
    "\n",
    "do_rendering = True\n",
    "\n",
    "if do_rendering:\n",
    "    sync_ransac_time = 0.0\n",
    "    async_ransac_time = 0.0\n",
    "    roi_time = 0.0\n",
    "    detect_wire_time = 0.0\n",
    "    for file in rgb_file_list:\n",
    "        start_time = time.perf_counter()\n",
    "        rgb_timestamp = int(file.split('.')[0])\n",
    "        closest_depth_timestamp = None\n",
    "        for depth_file in depth_file_list:\n",
    "            if closest_depth_timestamp is None or abs(int(depth_file.split('.')[0]) - rgb_timestamp) < abs(int(closest_depth_timestamp.split('.')[0]) - rgb_timestamp):\n",
    "                closest_depth_timestamp = depth_file\n",
    "                closest_depth_file = os.path.join(depth_folder, str(closest_depth_timestamp))\n",
    "                \n",
    "        rgb_img = cv2.imread(os.path.join(rgb_folder, file))\n",
    "        depth_img = np.load(closest_depth_file)\n",
    "        rgb_img = cv2.resize(rgb_img, (input_image_size[0], input_image_size[1]))\n",
    "        depth_img = cv2.resize(depth_img, (input_image_size[0], input_image_size[1]))\n",
    "        \n",
    "        min_depth = 0.5\n",
    "        depth_img[depth_img <= min_depth] = 0\n",
    "\n",
    "        start_time = time.perf_counter()\n",
    "        start_detect_wire = time.perf_counter()\n",
    "        wire_lines, wire_midpoints, avg_angle, midpoint_dists_wrt_center = wire_detector.detect_wires_2d(rgb_img)\n",
    "        detect_wire_time += time.perf_counter() - start_detect_wire\n",
    "\n",
    "        start_roi = time.perf_counter()\n",
    "        regions_of_interest, roi_line_counts = wire_detector.find_regions_of_interest(depth_img, avg_angle, midpoint_dists_wrt_center)\n",
    "        roi_time += time.perf_counter() - start_roi\n",
    "\n",
    "        start_ransac_sync = time.perf_counter()\n",
    "        fitted_lines, line_inlier_counts, roi_pcs, roi_point_colors, rgb_masked = wire_detector.ransac_on_rois(regions_of_interest, roi_line_counts, avg_angle, depth_img, viz_img=rgb_img)\n",
    "        sync_ransac_time += time.perf_counter() - start_ransac_sync\n",
    "\n",
    "        end_time = time.perf_counter()\n",
    "        elapsed_time = end_time - start_time\n",
    "        avg_frequency += 1.0 / elapsed_time\n",
    "\n",
    "        rgb_masked = vu.draw_3d_line_on_image(rgb_masked, fitted_lines, camera_intrinsics, color=(0, 255, 0), thickness=3)\n",
    "\n",
    "        if fitted_lines is None or len(fitted_lines) == 0 or roi_pcs is None or len(roi_pcs) == 0:\n",
    "            print(\"No wires detected in image: \", rgb_timestamp)\n",
    "            continue\n",
    "\n",
    "        img_name_3d = os.path.join(wire_detection_dir, str(rgb_timestamp) + '_3d.png')\n",
    "        vu.capture_fitted_lines_in_image(renderer, material, img_name_3d, fitted_lines, roi_pcs, roi_point_colors)\n",
    "        img_name_2d = os.path.join(wire_detection_dir, str(rgb_timestamp) + '_2d.png')\n",
    "        cv2.imwrite(img_name_2d, rgb_masked)\n",
    "\n",
    "    avg_frequency /= len(rgb_file_list)\n",
    "    avg_sync_ransac_time = sync_ransac_time / len(rgb_file_list)\n",
    "    avg_roi_time = roi_time / len(rgb_file_list)\n",
    "    avg_detect_wire_time = detect_wire_time / len(rgb_file_list)\n",
    "    print(f\"Detect 3D Average frequency: {avg_frequency:.4f}, Average Period: {1/avg_frequency:.4f} seconds\")\n",
    "    print(f\"Average 2D Detect Wire frequency: {1/avg_detect_wire_time:.4f}, Average Period: {avg_detect_wire_time:.4f} seconds\")\n",
    "    print(f\"Average ROI frequency: {1/avg_roi_time:.4f}, Average Period: {avg_roi_time:.4f} seconds\")\n",
    "    print(f\"Average RANSAC frequency: {1/avg_sync_ransac_time:.4f}, Average Period: {avg_sync_ransac_time:.4f} seconds\")\n"
   ]
  },
  {
   "cell_type": "code",
   "execution_count": 4,
   "metadata": {},
   "outputs": [],
   "source": [
    "import shutil\n",
    "\n",
    "# copy the ransac results into a seperate 2d and 3d folder\n",
    "os.makedirs(folder + 'ransac_results_2d/', exist_ok=True)\n",
    "video_2d_name = folder + 'ransac_results_2d.mp4'\n",
    "os.makedirs(folder + 'ransac_results_3d/', exist_ok=True)\n",
    "video_3d_name = folder + 'ransac_results_3d.mp4'\n",
    "\n",
    "frames_2d = []\n",
    "frames_3d = []\n",
    "\n",
    "files = sorted(os.listdir(wire_detection_dir))\n",
    "\n",
    "for file in files:\n",
    "    if file.endswith('_2d.png'):\n",
    "        shutil.copy(os.path.join(wire_detection_dir, file), os.path.join(folder + 'ransac_results_2d/', file))\n",
    "        frames_2d.append(os.path.join(folder + 'ransac_results_2d/', file))\n",
    "\n",
    "    elif file.endswith('_3d.png'):\n",
    "        shutil.copy(os.path.join(wire_detection_dir, file), os.path.join(folder + 'ransac_results_3d/', file))\n",
    "        frames_3d.append(os.path.join(folder + 'ransac_results_3d/', file))\n",
    "\n",
    "vu.make_video(frames_2d, video_2d_name, fps=10)\n",
    "vu.make_video(frames_3d, video_3d_name, fps=10)"
   ]
  }
 ],
 "metadata": {
  "kernelspec": {
   "display_name": "wire_env",
   "language": "python",
   "name": "python3"
  },
  "language_info": {
   "codemirror_mode": {
    "name": "ipython",
    "version": 3
   },
   "file_extension": ".py",
   "mimetype": "text/x-python",
   "name": "python",
   "nbconvert_exporter": "python",
   "pygments_lexer": "ipython3",
   "version": "3.10.12"
  }
 },
 "nbformat": 4,
 "nbformat_minor": 2
}
