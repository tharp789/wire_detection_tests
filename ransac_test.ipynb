{
 "cells": [
  {
   "cell_type": "code",
   "execution_count": 2,
   "metadata": {},
   "outputs": [],
   "source": [
    "import numpy as np\n",
    "import cv2\n",
    "import matplotlib.pyplot as plt\n",
    "import datetime\n",
    "\n",
    "import wire_detection_utils as wdu"
   ]
  },
  {
   "cell_type": "code",
   "execution_count": null,
   "metadata": {},
   "outputs": [],
   "source": [
    "expansion_size = 2\n",
    "line_threshold = 100\n",
    "pixel_binning_size = 3\n",
    "low_canny_threshold = 100\n",
    "high_canny_threshold = 200\n",
    "bin_avg_threshold_multiplier = 0.5\n",
    "\n",
    "# Creat e a WireDetector instance\n",
    "wire_detector = wdu.WireDetector(line_threshold, expansion_size, low_canny_threshold, high_canny_threshold, pixel_binning_size, bin_avg_threshold_multiplier)\n",
    "\n",
    "img = cv2.imread('input_imgs/outdoor_2.png')\n",
    "assert img is not None, \"Image not found\"\n",
    "print(f'Image shape: {img.shape}')"
   ]
  },
  {
   "cell_type": "code",
   "execution_count": null,
   "metadata": {},
   "outputs": [
    {
     "name": "stdout",
     "output_type": "stream",
     "text": [
      "Image shape: (270, 480, 3)\n"
     ]
    },
    {
     "data": {
      "text/plain": [
       "True"
      ]
     },
     "execution_count": 3,
     "metadata": {},
     "output_type": "execute_result"
    }
   ],
   "source": [
    "cv2.imwrite('output_imgs/reference.jpg', img)\n",
    "\n",
    "# Create segmentation mask\n",
    "seg_mask = wire_detector.create_seg_mask(img)\n",
    "cv2.imwrite('output_imgs/seg_mask.jpg', seg_mask)\n",
    "\n",
    "# Detect wires using the segmentation mask\n",
    "cartesian_lines, center_line, center_line_midpoint, avg_angle, seg_coords = wire_detector.get_hough_lines(seg_mask)\n",
    "assert cartesian_lines is not None, \"No lines found\"\n",
    "\n",
    "wire_lines, wire_midpoints = wire_detector.get_line_instance_locations(cartesian_lines, center_line, center_line_midpoint, avg_angle, seg_coords)\n",
    "\n",
    "# Visualize detected wires\n",
    "hough_img = img.copy()\n",
    "for x0, y0, x1, y1 in cartesian_lines:\n",
    "    rand_color = tuple(np.random.randint(0, 256, 3).tolist())\n",
    "    cv2.line(hough_img, (x0, y0), (x1, y1), rand_color, 1)\n",
    "cv2.imwrite('output_imgs/hough_detect.jpg', hough_img)\n",
    "\n",
    "centerline_img = img.copy()\n",
    "cv2.line(centerline_img, (center_line[0], center_line[1]), (center_line[2], center_line[3]), (0, 255, 0), 1)\n",
    "cv2.circle(centerline_img, (int(center_line_midpoint[0]), int(center_line_midpoint[1])), 5, (0, 255, 0), -1)\n",
    "cv2.imwrite('output_imgs/centerline.jpg', centerline_img)\n",
    "\n",
    "clustered_img = img.copy()\n",
    "rand_colors = np.random.randint(0, 256, (len(wire_midpoints), 3)).tolist()\n",
    "for i, (x0,y0,x1,y1) in enumerate(wire_lines):\n",
    "    cv2.line(clustered_img, (x0,y0), (x1,y1), tuple(rand_colors[i]), 1)\n",
    "\n",
    "for i, (x0,y0) in enumerate(wire_midpoints):\n",
    "    cv2.circle(clustered_img, (int(x0), int(y0)), 5, tuple(rand_colors[i]), -1)\n",
    "\n",
    "cv2.imwrite('output_imgs/cluster_detect.jpg', clustered_img)\n"
   ]
  }
 ],
 "metadata": {
  "kernelspec": {
   "display_name": "wire_env",
   "language": "python",
   "name": "python3"
  },
  "language_info": {
   "codemirror_mode": {
    "name": "ipython",
    "version": 3
   },
   "file_extension": ".py",
   "mimetype": "text/x-python",
   "name": "python",
   "nbconvert_exporter": "python",
   "pygments_lexer": "ipython3",
   "version": "3.10.12"
  }
 },
 "nbformat": 4,
 "nbformat_minor": 2
}
